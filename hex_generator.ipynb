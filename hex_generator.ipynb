{
 "cells": [
  {
   "cell_type": "code",
   "execution_count": 30,
   "id": "70a1f926",
   "metadata": {},
   "outputs": [],
   "source": [
    "import numpy as np"
   ]
  },
  {
   "cell_type": "code",
   "execution_count": 31,
   "id": "2a2b5093",
   "metadata": {},
   "outputs": [],
   "source": [
    "# Constant number of decimal bits use for fixed-point presentation\n",
    "DEC_BITS = 5 # Increment number, increment precision. But, we have to face with\n",
    "            # trade-off between accuracy and memory.\n",
    "\n",
    "# Both weights and biases may positive or negative number\n",
    "# Assigns the list with a set of floating-point number\n",
    "list_nums = [-1.0, 2.3, 3, 4, 5, 6, 7, 8, 9, 10, 11, 12, 13, 14, 15, 16, 17, 18, 19, 20]\n"
   ]
  },
  {
   "cell_type": "code",
   "execution_count": 32,
   "id": "4697cc27",
   "metadata": {},
   "outputs": [],
   "source": [
    "# signed float to unsigned fixed point (2^5 = 32 bits = 4 bytes per data)\n",
    "converted_nums = []\n",
    "for list_num in list_nums:\n",
    "    # Converts the current element to a fixed-point presentation\n",
    "    converted_num = int(np.round(list_num * (2**DEC_BITS)))\n",
    "    if converted_num < 0:\n",
    "        converted_num = converted_num + 2**32 # signed to unsigned\n",
    "    converted_nums.append(converted_num)"
   ]
  },
  {
   "cell_type": "code",
   "execution_count": 33,
   "id": "6f3c8d7e",
   "metadata": {},
   "outputs": [],
   "source": [
    "# unsinged to string (eg: 1 to '00000001')\n",
    "string_nums = []\n",
    "for i in converted_nums:\n",
    "    string_num = str(hex(int(i)).upper()[2:]).zfill(8) # eg: OX00000001 => 00000001\n",
    "    string_nums.append(string_num)"
   ]
  },
  {
   "cell_type": "code",
   "execution_count": 34,
   "id": "ab8bddf2",
   "metadata": {},
   "outputs": [],
   "source": [
    "\"\"\"To initialize the M10k, we use intel hex file to initialize the M10k in the IP catalog. An simple example of the hex file could be as follows:\n",
    ":040001000000004AB1\n",
    ":00000001FF\n",
    "The first line, from left to right, : stands for a start code of a record. 04 means the record length is 4 bytes, and 0001 means the address is 1.\n",
    "The following 00 means this is a data record. Next 0000004A means the data 0x000004A will be stored.\n",
    "The B1 in the end is the checksum of the data record. The second line, :00000001FF stands for the end of the file.\"\"\"\n",
    "\n",
    "for k, num in enumerate(string_nums):\n",
    "    string_nums[k] = '04' + str(hex(k).upper()[2:].zfill(4)) + '00' + num\n",
    "    if k >= 0xffff:\n",
    "        print(\"Too Many Data!\")\n",
    "    data = bytearray.fromhex(string_nums[k])\n",
    "    check_sum = (0x100 - sum(data)) & 0xff\n",
    "    string_nums[k] = string_nums[k] + str(hex(check_sum).upper()[2:].zfill(2))\n",
    "    "
   ]
  },
  {
   "cell_type": "code",
   "execution_count": 35,
   "id": "3a40c6b8",
   "metadata": {},
   "outputs": [],
   "source": [
    "# calculate checksum, and add end of file\n",
    "# Needs creating a m10k.hex file to represent binary data in a human readabel format.\n",
    "# M10K file will be interpreted by hardware systems.\n",
    "with open('m10k.hex', 'w') as f:\n",
    "    for line in string_nums:\n",
    "        line = ':' + line\n",
    "        f.write(line)\n",
    "        f.write('\\n')\n",
    "    end = \":00000001FF\"\n",
    "    f.write(end)\n",
    "    f.write('\\n')"
   ]
  },
  {
   "cell_type": "code",
   "execution_count": null,
   "id": "5faae9f4",
   "metadata": {},
   "outputs": [],
   "source": [
    "!jupyter nbconvert --to webpdf --allow-chromium-download hex_generator.ipynb"
   ]
  }
 ],
 "metadata": {
  "kernelspec": {
   "display_name": "Python 3 (ipykernel)",
   "language": "python",
   "name": "python3"
  },
  "language_info": {
   "codemirror_mode": {
    "name": "ipython",
    "version": 3
   },
   "file_extension": ".py",
   "mimetype": "text/x-python",
   "name": "python",
   "nbconvert_exporter": "python",
   "pygments_lexer": "ipython3",
   "version": "3.10.9"
  }
 },
 "nbformat": 4,
 "nbformat_minor": 5
}
